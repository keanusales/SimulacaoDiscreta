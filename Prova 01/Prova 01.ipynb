{
 "cells": [
  {
   "cell_type": "markdown",
   "id": "32a35f55",
   "metadata": {},
   "source": [
    "# Código necessário para a Prova 01\n",
    "Aluno: Keanu Frota Sales (202104940028)"
   ]
  },
  {
   "cell_type": "markdown",
   "id": "abb77498",
   "metadata": {},
   "source": [
    "#### Imports Necessários"
   ]
  },
  {
   "cell_type": "code",
   "execution_count": 1,
   "id": "3a67b55c",
   "metadata": {},
   "outputs": [],
   "source": [
    "from math import sqrt, log, ceil, erf, exp\n",
    "from collections.abc import Callable\n",
    "from csv import reader"
   ]
  },
  {
   "cell_type": "markdown",
   "id": "2de5b1ba",
   "metadata": {},
   "source": [
    "#### Função de abertura do arquivo\n",
    "Note que essa função já retorna uma lista ordenada dos valores através da função sorted"
   ]
  },
  {
   "cell_type": "code",
   "execution_count": 2,
   "id": "b7a6a005",
   "metadata": {},
   "outputs": [],
   "source": [
    "def read_file(file_path: str) -> list[float]:\n",
    "  with open(file_path, encoding = \"utf-8\") as file:\n",
    "    return sorted(float(value) for row in reader(file) for value in row)"
   ]
  },
  {
   "cell_type": "markdown",
   "id": "389ff113",
   "metadata": {},
   "source": [
    "#### Funções de Estatística Descritiva\n",
    "Abaixo estão as funções que calculam, respectivamente, a média, a moda, a mediana, os quartis, a amplitude, a variância, o desvio padrão e o coeficiente de variação dos valores fornecidos."
   ]
  },
  {
   "cell_type": "code",
   "execution_count": 3,
   "id": "d6a3ab38",
   "metadata": {},
   "outputs": [],
   "source": [
    "def mean(values: list[float]) -> float:\n",
    "  if not values: return 0.0\n",
    "  return sum(values) / len(values)\n",
    "\n",
    "def mode(values: list[float]) -> float:\n",
    "  if not values: return 0.0\n",
    "  return max(set(values), key = values.count)\n",
    "\n",
    "def median(values: list[float]) -> float:\n",
    "  if not values: return 0.0\n",
    "  div, mod = divmod(len(values), 2)\n",
    "  return (values[div + mod - 1] + values[div]) / 2\n",
    "\n",
    "def quartis(values: list[float]) -> tuple[float, float, float]:\n",
    "  if not values: return 0.0, 0.0, 0.0\n",
    "  div, mod = divmod(len(values), 2)\n",
    "  q1 = median(values[:div])\n",
    "  q2 = (values[div + mod - 1] + values[div]) / 2\n",
    "  q3 = median(values[div + mod:])\n",
    "  return (q1, q2, q3)\n",
    "\n",
    "def amplitude(values: list[float]) -> float:\n",
    "  if not values: return 0.0\n",
    "  return max(values) - min(values)\n",
    "\n",
    "def variance(values: list[float]) -> float:\n",
    "  if not values: return 0.0\n",
    "  mean_value = mean(values)\n",
    "  sums = sum((value - mean_value) ** 2 for value in values)\n",
    "  return sums / len(values)\n",
    "\n",
    "def default_deviation(values: list[float]) -> float:\n",
    "  if not values: return 0.0\n",
    "  return sqrt(variance(values))\n",
    "\n",
    "def variation_coefitient(values: list[float]) -> float:\n",
    "  mean_value = mean(values)\n",
    "  if not values or not mean_value: return 0.0\n",
    "  return 100 * default_deviation(values) / mean_value"
   ]
  },
  {
   "cell_type": "markdown",
   "id": "7783e5e5",
   "metadata": {},
   "source": [
    "#### Funções de Detecção/Remoção de Outliers\n",
    "Note que é possivel detectar/remover tanto outliers moderados quanto extremos"
   ]
  },
  {
   "cell_type": "code",
   "execution_count": 4,
   "id": "c95d5275",
   "metadata": {},
   "outputs": [],
   "source": [
    "def detect_outliers(values: list[float], extreme: bool = False) -> list[float]:\n",
    "  if not values: return []\n",
    "  q1, _, q3 = quartis(values)\n",
    "  _3_6_halfs_iqr = 1.5 * (q3 - q1) * (1 + extreme)\n",
    "  lower, upper = q1 - _3_6_halfs_iqr, q3 + _3_6_halfs_iqr\n",
    "  return [value for value in values if value < lower or value > upper]\n",
    "\n",
    "def remove_outliers(values: list[float], extreme: bool = False) -> list[float]:\n",
    "  if not values: return []\n",
    "  q1, _, q3 = quartis(values)\n",
    "  _3_6_halfs_iqr = 1.5 * (q3 - q1) * (1 + extreme)\n",
    "  lower, upper = q1 - _3_6_halfs_iqr, q3 + _3_6_halfs_iqr\n",
    "  return [value for value in values if lower <= value <= upper]"
   ]
  },
  {
   "cell_type": "markdown",
   "id": "fb6415b3",
   "metadata": {},
   "source": [
    "#### Funções de Criação e Plotagem do histograma\n",
    "Note que aqui a quantidade de classes aqui é definida como ceil(3.322 * log(len(values), 10) + 1)."
   ]
  },
  {
   "cell_type": "code",
   "execution_count": 5,
   "id": "c2c025ce",
   "metadata": {},
   "outputs": [],
   "source": [
    "def histogram(values: list[float]) -> list[int]:\n",
    "  if not values: return []\n",
    "  bins = ceil(3.322 * log(len(values), 10) + 1)\n",
    "  min_value, max_value = min(values), max(values)\n",
    "  bin_size = (max_value - min_value) / bins\n",
    "  histogram_data = [0] * bins\n",
    "  for value in values:\n",
    "    index = int((value - min_value) / bin_size)\n",
    "    if index >= bins: index = bins - 1\n",
    "    histogram_data[index] += 1\n",
    "  return histogram_data\n",
    "\n",
    "def plot_histogram(histogram_data: list[int]) -> None:\n",
    "  if not histogram_data: return\n",
    "  max_value = max(histogram_data)\n",
    "  length = len(histogram_data)\n",
    "  print(f\"\\nNúmero de classes: {length}\")\n",
    "  print(\"Histograma dos valores:\")\n",
    "  for i, count in enumerate(histogram_data):\n",
    "    bar = \"*\" * (count * 50 // max_value)\n",
    "    print(f\"{i + 1}: {bar} (freq.: {count})\")"
   ]
  },
  {
   "cell_type": "markdown",
   "id": "5aebe5d0",
   "metadata": {},
   "source": [
    "#### Funções do Teste de Kolmogorov Smirnov (KS)\n",
    "\n",
    "Primeiramente, temos as definições das funções de distribuição acumulada conhecidas, que são, respectivamente, a uniforme, a exponencial, a normal, a lognormal e a triangular. Observe que no teste KS **devemos** usar as funções de distribuição **acumulada**, não as funções de distribuição de probablidade.\n",
    "\n",
    "Após essas definições, essas funções são usadas dentro do teste Kolmogorov Smirnov para saber se aquela distribuição é aderente ou não ao conjunto de dados"
   ]
  },
  {
   "cell_type": "code",
   "execution_count": 6,
   "id": "6a703e85",
   "metadata": {},
   "outputs": [],
   "source": [
    "def uniform(values: list[float]) -> Callable[[float], float]:\n",
    "  if not values: return lambda x: 0.0\n",
    "  diff = (b := max(values)) - (a := min(values))\n",
    "  return lambda x: 0.0 if x < a else (x - a) / diff if x < b else 1.0\n",
    "\n",
    "def exponential(values: list[float]) -> Callable[[float], float]:\n",
    "  if not values: return lambda x: 0.0\n",
    "  scale = len(values) / sum(values)\n",
    "  return lambda x: 0.0 if x < 0 else 1 - exp(-scale * x)\n",
    "\n",
    "def normal(values: list[float]) -> Callable[[float], float]:\n",
    "  if not values: return lambda x: 0.0\n",
    "  mu = sum(values) / (len_values := len(values))\n",
    "  sigma = sqrt(2 * sum((v - mu) ** 2 for v in values) / len_values)\n",
    "  return lambda x: 0.5 * (1 + erf((x - mu) / sigma))\n",
    "\n",
    "def lognormal(values: list[float]) -> Callable[[float], float]:\n",
    "  positive = [v for v in values if v > 0]\n",
    "  if not values or not positive: return lambda x: 0.0\n",
    "  mu = sum(log(v) for v in positive) / (len_positive := len(positive))\n",
    "  sigma = sqrt(2 * sum((log(v) - mu) ** 2 for v in positive) / len_positive)\n",
    "  return lambda x: 0.0 if x <= 0 else 0.5 * (1 + erf((log(x) - mu) / sigma))\n",
    "\n",
    "def triangular(values: list[float]) -> Callable[[float], float]:\n",
    "  if not values: return lambda x: 0.0\n",
    "  a, b, c = min(values), mode(values), max(values)\n",
    "  lower, upper = (c - a) * (b - a), (c - a) * (c - b)\n",
    "  return lambda x: (0.0 if x < a else\n",
    "    ((x - a) ** 2) / lower if x < b else\n",
    "    1 - ((c - x) ** 2) / upper if x < c else 1.0)\n",
    "\n",
    "KSFunction = Callable[[list[float]], Callable[[float], float]]\n",
    "\n",
    "def kolmogorov_smirnov(values: list[float], distribution: KSFunction) -> bool:\n",
    "  if not values: return False\n",
    "  distrib_name = distribution.__name__.capitalize()\n",
    "  try:\n",
    "    n = len(values)\n",
    "    empirical = [(i + 1) / n for i in range(n)]\n",
    "    function = distribution(values)\n",
    "    teorically = [function(x) for x in values]\n",
    "  except ZeroDivisionError:\n",
    "    print(f\"Erro: Divisão por zero na distribuição \\\"{distrib_name}\\\".\")\n",
    "    return False\n",
    "  d = max(abs(e - t) for e, t in zip(empirical, teorically))\n",
    "  critical_value = 1.36 / sqrt(n)\n",
    "  print(f\"D {distrib_name}: {d}, Valor crítico: {critical_value}\")\n",
    "  return d < critical_value"
   ]
  },
  {
   "cell_type": "markdown",
   "id": "53bd052d",
   "metadata": {},
   "source": [
    "# Resolução das Questões da Prova 01\n",
    "Primeiramente, vamos abrir o arquivo fornecido e fazer 2 listas, uma com os valores com outliers e outra sem outliers, ambas ordenadas."
   ]
  },
  {
   "cell_type": "code",
   "execution_count": 7,
   "id": "77b7f63b",
   "metadata": {},
   "outputs": [],
   "source": [
    "with_outliers = read_file(\"entrada.txt\")\n",
    "without_outliers = remove_outliers(with_outliers)"
   ]
  },
  {
   "cell_type": "markdown",
   "id": "ceb96c52",
   "metadata": {},
   "source": [
    "1ª) A partir do conjunto de dados utilizado como entrada na prova, realize o tratamento de outliers e forneça os seguintes valores:\n",
    "\n",
    "a) Quantos outliers existem e quais são os seus valores? (1,0) "
   ]
  },
  {
   "cell_type": "code",
   "execution_count": 8,
   "id": "95fb4a27",
   "metadata": {},
   "outputs": [
    {
     "name": "stdout",
     "output_type": "stream",
     "text": [
      "Os outliers são: [276.8772, 331.3165, 454.4438, 4963.7838] (Quantidade: 4)\n"
     ]
    }
   ],
   "source": [
    "outliers = detect_outliers(with_outliers)\n",
    "print(f\"Os outliers são: {outliers} (Quantidade: {len(outliers)})\")"
   ]
  },
  {
   "cell_type": "markdown",
   "id": "ea8c8dd0",
   "metadata": {},
   "source": [
    "b) Qual a média? (1,0)"
   ]
  },
  {
   "cell_type": "code",
   "execution_count": 9,
   "id": "2cb831c6",
   "metadata": {},
   "outputs": [
    {
     "name": "stdout",
     "output_type": "stream",
     "text": [
      "Media com outliers: 28.012854560585883, sem outliers: 26.041397933333332\n"
     ]
    }
   ],
   "source": [
    "print(f\"Media com outliers: {mean(with_outliers)}, sem outliers: {mean(without_outliers)}\")"
   ]
  },
  {
   "cell_type": "markdown",
   "id": "7e93e248",
   "metadata": {},
   "source": [
    "c) Qual o desvio padrão? (1,0)"
   ]
  },
  {
   "cell_type": "code",
   "execution_count": 10,
   "id": "98cd30a0",
   "metadata": {},
   "outputs": [
    {
     "name": "stdout",
     "output_type": "stream",
     "text": [
      "Desvio padrão com outliers: 90.73868132926775\n",
      "Desvio padrão sem outliers: 2.8398495700316704\n"
     ]
    }
   ],
   "source": [
    "print(f\"Desvio padrão com outliers: {default_deviation(with_outliers)}\")\n",
    "print(f\"Desvio padrão sem outliers: {default_deviation(without_outliers)}\")"
   ]
  },
  {
   "cell_type": "markdown",
   "id": "a706cd39",
   "metadata": {},
   "source": [
    "d) Informe a função de probabilidade descrita por estes dados, o número de classes do histograma, e  a frequência de cada classe (2,0).\n",
    "\n",
    "Vamos por partes. Primeiro, vamos mostrar o histograma que esses dados apresentam, com e sem outliers."
   ]
  },
  {
   "cell_type": "code",
   "execution_count": 11,
   "id": "9857d8e6",
   "metadata": {},
   "outputs": [
    {
     "name": "stdout",
     "output_type": "stream",
     "text": [
      "Histograma com outliers presentes:\n",
      "\n",
      "Número de classes: 13\n",
      "Histograma dos valores:\n",
      "1: ************************************************** (freq.: 3002)\n",
      "2:  (freq.: 1)\n",
      "3:  (freq.: 0)\n",
      "4:  (freq.: 0)\n",
      "5:  (freq.: 0)\n",
      "6:  (freq.: 0)\n",
      "7:  (freq.: 0)\n",
      "8:  (freq.: 0)\n",
      "9:  (freq.: 0)\n",
      "10:  (freq.: 0)\n",
      "11:  (freq.: 0)\n",
      "12:  (freq.: 0)\n",
      "13:  (freq.: 1)\n"
     ]
    }
   ],
   "source": [
    "print(\"Histograma com outliers presentes:\")\n",
    "plot_histogram(histogram(with_outliers))"
   ]
  },
  {
   "cell_type": "code",
   "execution_count": 12,
   "id": "48a4dc11",
   "metadata": {},
   "outputs": [
    {
     "name": "stdout",
     "output_type": "stream",
     "text": [
      "Histograma sem outliers presentes:\n",
      "\n",
      "Número de classes: 13\n",
      "Histograma dos valores:\n",
      "1: ************ (freq.: 105)\n",
      "2: ***************************************** (freq.: 341)\n",
      "3: ************************************************** (freq.: 414)\n",
      "4: ************************************************** (freq.: 414)\n",
      "5: **************************************** (freq.: 336)\n",
      "6: ************************************ (freq.: 305)\n",
      "7: ********************************* (freq.: 276)\n",
      "8: ****************************** (freq.: 252)\n",
      "9: ********************** (freq.: 184)\n",
      "10: ******************** (freq.: 169)\n",
      "11: ************* (freq.: 108)\n",
      "12: ******** (freq.: 74)\n",
      "13: ** (freq.: 22)\n"
     ]
    }
   ],
   "source": [
    "print(\"Histograma sem outliers presentes:\")\n",
    "plot_histogram(histogram(without_outliers))"
   ]
  },
  {
   "cell_type": "markdown",
   "id": "c008677b",
   "metadata": {},
   "source": [
    "Como podemos ver nas respostas acima, a presença dos outliers prejudica a criação correta do histograma. Por isso, eles devem ser removidos para que o histograma seja criado da forma correta.\n",
    "\n",
    "Levando em conta apenas o histograma **sem outliers**, temos um total de 13 classes com as frequências sendo mostradas no próprio histograma.\n",
    "\n",
    "Fazendo a análise visual do histograma **sem outliers**, podemos induzir que os dados se aproximam da aderência com a distribuição lognormal e a distribuição triangular. Para termos certeza, vamos aplicar o teste de Kolmogorov Smirnov nas 5 distribuições conhecidas com os dados **sem outliers**:"
   ]
  },
  {
   "cell_type": "code",
   "execution_count": 13,
   "id": "b0fc4128",
   "metadata": {},
   "outputs": [
    {
     "name": "stdout",
     "output_type": "stream",
     "text": [
      "D Uniform: 0.20203079128635382, Valor crítico: 0.024830089273567533\n",
      "Os dados não são compatíveis com a distribuição Uniform.\n",
      "\n",
      "D Exponential: 0.5556318816587541, Valor crítico: 0.024830089273567533\n",
      "Os dados não são compatíveis com a distribuição Exponential.\n",
      "\n",
      "D Normal: 0.07620804248727908, Valor crítico: 0.024830089273567533\n",
      "Os dados não são compatíveis com a distribuição Normal.\n",
      "\n",
      "D Lognormal: 0.06358643303927913, Valor crítico: 0.024830089273567533\n",
      "Os dados não são compatíveis com a distribuição Lognormal.\n",
      "\n",
      "D Triangular: 0.06919609997661025, Valor crítico: 0.024830089273567533\n",
      "Os dados não são compatíveis com a distribuição Triangular.\n",
      "\n"
     ]
    }
   ],
   "source": [
    "for function in (uniform, exponential, normal, lognormal, triangular):\n",
    "  distribution = function.__name__.capitalize()\n",
    "  ks_result = \"são\" if kolmogorov_smirnov(without_outliers, function) else \"não são\"\n",
    "  print(f\"Os dados {ks_result} compatíveis com a distribuição {distribution}.\\n\")"
   ]
  },
  {
   "cell_type": "markdown",
   "id": "c0c122ad",
   "metadata": {},
   "source": [
    "Aqui vemos que a análise matemática realmente é importante. Apesar de o teste KS mostrar que realmente as distribuições lognormal e triangular são as que mais se aproximam da aderência com o conjunto de dados, elas não conseguem ter um D menor que o D crítico, necessário para se concluir que realmente são aderentes. Portanto, o conjunto de dados **NÃO** é aderente a nenhuma função de distribuição conhecida."
   ]
  }
 ],
 "metadata": {
  "kernelspec": {
   "display_name": "Python 3",
   "language": "python",
   "name": "python3"
  },
  "language_info": {
   "codemirror_mode": {
    "name": "ipython",
    "version": 3
   },
   "file_extension": ".py",
   "mimetype": "text/x-python",
   "name": "python",
   "nbconvert_exporter": "python",
   "pygments_lexer": "ipython3",
   "version": "3.13.5"
  }
 },
 "nbformat": 4,
 "nbformat_minor": 5
}
